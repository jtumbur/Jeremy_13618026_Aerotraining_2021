{
 "cells": [
  {
   "cell_type": "markdown",
   "id": "39b8e099",
   "metadata": {},
   "source": [
    "# Route Analysis\n",
    "\n",
    "This OOP=based calculator uses the route distance, passenger, aircraft capacity, and the competitors capacity to calculate the seat load factor, available seat kilometer, revenue passenger kilometer, and capacity share."
   ]
  },
  {
   "cell_type": "code",
   "execution_count": null,
   "id": "8792f592",
   "metadata": {},
   "outputs": [],
   "source": [
    "class Analysis():\n",
    "    def __init__(self,distance,passenger,capacity,competitor_cap):\n",
    "        self.distance = distance\n",
    "        self.passenger = passenger\n",
    "        self.capacity = capacity\n",
    "        self.competitor_cap = competitor_cap\n",
    "        \n",
    "    def slf(self):\n",
    "        return round(self.passenger/self.capacity*100)\n",
    "    \n",
    "    def ask(self):\n",
    "        return self.capacity*self.distance\n",
    "    \n",
    "    def rpk(self):\n",
    "        return self.passenger*self.distance\n",
    "    \n",
    "    def cap_share(self):\n",
    "        return round(self.capacity/(self.competitor_cap + self.capacity)*100)"
   ]
  },
  {
   "cell_type": "code",
   "execution_count": null,
   "id": "0459ec98",
   "metadata": {},
   "outputs": [],
   "source": [
    "CGK_DPS = Analysis(983,150,180,1200)\n",
    "print (\"Seat load Factor = \" + str(CGK_DPS.slf()) + '%')\n",
    "print (\"ASK = \" + str(CGK_DPS.ask()))\n",
    "print (\"RPK = \" + str(CGK_DPS.rpk()))\n",
    "print (\"Capacity Share = \" + str(CGK_DPS.cap_share()) + '%')"
   ]
  }
 ],
 "metadata": {
  "kernelspec": {
   "display_name": "Python 3",
   "language": "python",
   "name": "python3"
  },
  "language_info": {
   "codemirror_mode": {
    "name": "ipython",
    "version": 3
   },
   "file_extension": ".py",
   "mimetype": "text/x-python",
   "name": "python",
   "nbconvert_exporter": "python",
   "pygments_lexer": "ipython3",
   "version": "3.8.8"
  }
 },
 "nbformat": 4,
 "nbformat_minor": 5
}
