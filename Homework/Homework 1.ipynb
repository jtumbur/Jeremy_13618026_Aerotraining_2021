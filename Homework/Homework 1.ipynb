{
 "cells": [
  {
   "cell_type": "markdown",
   "id": "728a1826",
   "metadata": {},
   "source": [
    "# 1 \n",
    "First, make a list of 100 numbers starting from 1. Then identify the numbers which are multiples of both 3 and 5 using if with two conditionals to print \"FizzBuzz\". Then for numbers which is not valid for the previous constraints, using elif to find numbers that are multiple of 3 to be replaced with \"Fizz\". Third, do the same as step 2 but with constraint numbers multiple of 5 to print \"Buzz\"."
   ]
  },
  {
   "cell_type": "code",
   "execution_count": null,
   "id": "69efd522",
   "metadata": {},
   "outputs": [],
   "source": [
    "n = 100\n",
    "for n in range (n):\n",
    "    if ((n+1) % 3) == 0 and ((n+1) % 5) == 0:\n",
    "        print (\"FizzBuzz\")\n",
    "    elif ((n+1) % 3) == 0:\n",
    "        print (\"Fizz\")\n",
    "    elif ((n+1) % 5) == 0:\n",
    "        print (\"Buzz\")\n",
    "    else:\n",
    "        print (n+1)"
   ]
  },
  {
   "cell_type": "markdown",
   "id": "f63181ad",
   "metadata": {},
   "source": [
    "# 2\n",
    "A palindrome is a sequence of characters that read the same backward as forward, in this problem is limited to alphanumeric case. First, store input from the user into a string. Second, calculate the length of the input. Third, match the character betweeen the foremost and the last. Next, progress to the second character and the second last character until the characters run out. Finally, if all the characters matched then the input is a palindrome however if there is at least a single time the characters don't match then the input is not a palindrome."
   ]
  },
  {
   "cell_type": "code",
   "execution_count": null,
   "id": "db52ba53",
   "metadata": {},
   "outputs": [],
   "source": [
    "p = str(input(\"Input :\"))\n",
    "length_p = len(p)\n",
    "Front = 0\n",
    "Back = length_p - 1\n",
    "while (Front < Back) :\n",
    "    if (p[Front] == p[Back]) :\n",
    "        Front = Front + 1\n",
    "        Back = Back - 1\n",
    "    else :\n",
    "        print (\"Output : No\")\n",
    "        break\n",
    "else :\n",
    "    print (\"Output : Yes\")"
   ]
  }
 ],
 "metadata": {
  "kernelspec": {
   "display_name": "Python 3",
   "language": "python",
   "name": "python3"
  },
  "language_info": {
   "codemirror_mode": {
    "name": "ipython",
    "version": 3
   },
   "file_extension": ".py",
   "mimetype": "text/x-python",
   "name": "python",
   "nbconvert_exporter": "python",
   "pygments_lexer": "ipython3",
   "version": "3.8.8"
  }
 },
 "nbformat": 4,
 "nbformat_minor": 5
}
