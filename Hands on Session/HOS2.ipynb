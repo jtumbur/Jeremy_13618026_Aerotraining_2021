{
 "cells": [
  {
   "cell_type": "code",
   "execution_count": null,
   "id": "b824054e",
   "metadata": {},
   "outputs": [],
   "source": [
    "import numpy\n",
    "class something:\n",
    "    def __init__ (self, data_array):\n",
    "        self.data_array = data_array\n",
    "    \n",
    "    def calculate_range(self):\n",
    "        return max(self.data_array) - min(self.data_array)\n",
    "       \n",
    "    \n",
    "    def calculate_standard_deviation(self):\n",
    "        return numpy.std(self.data_array)"
   ]
  },
  {
   "cell_type": "code",
   "execution_count": null,
   "id": "03884d30",
   "metadata": {},
   "outputs": [],
   "source": [
    "mydata = something([1,2,3,4,5,6,7])\n",
    "print (mydata.calculate_range())\n",
    "print (mydata.calculate_standard_deviation())"
   ]
  }
 ],
 "metadata": {
  "kernelspec": {
   "display_name": "Python 3",
   "language": "python",
   "name": "python3"
  },
  "language_info": {
   "codemirror_mode": {
    "name": "ipython",
    "version": 3
   },
   "file_extension": ".py",
   "mimetype": "text/x-python",
   "name": "python",
   "nbconvert_exporter": "python",
   "pygments_lexer": "ipython3",
   "version": "3.8.8"
  }
 },
 "nbformat": 4,
 "nbformat_minor": 5
}
